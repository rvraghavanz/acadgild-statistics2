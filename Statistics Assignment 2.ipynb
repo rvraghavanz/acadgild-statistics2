{
 "cells": [
  {
   "cell_type": "raw",
   "metadata": {},
   "source": [
    "Problem Statement 1:\n",
    "A test is conducted which is consisting of 20 MCQs (multiple choices questions) with\n",
    "every MCQ having its four options out of which only one is correct. Determine the\n",
    "probability that a person undertaking that test has answered exactly 5 questions wrong.\n",
    "\n",
    "Problem Statement 2:\n",
    "A die marked A to E is rolled 50 times. Find the probability of getting a “D” exactly 5\n",
    "times.\n",
    "\n",
    "Problem Statement 3:\n",
    "Two balls are drawn at random in succession without replacement from an urn\n",
    "containing 4 red balls and 6 black balls.\n",
    "Find the probabilities of all the possible outcomes."
   ]
  },
  {
   "cell_type": "markdown",
   "metadata": {},
   "source": [
    "## Problem Statement 1:\n",
    "#### A test is conducted which is consisting of 20 MCQs (multiple choices questions) with every MCQ having its four options out of which only one is correct. Determine the probability that a person undertaking that test has answered exactly 5 questions wrong."
   ]
  },
  {
   "cell_type": "code",
   "execution_count": 11,
   "metadata": {},
   "outputs": [],
   "source": [
    "import numpy as np\n",
    "from scipy.special import factorial"
   ]
  },
  {
   "cell_type": "code",
   "execution_count": 12,
   "metadata": {},
   "outputs": [],
   "source": [
    "# nCr function to use in determining probablity\n",
    "def nCr(n, r):\n",
    "    numer = factorial(n)\n",
    "    denom = factorial(n-r)*factorial(r)\n",
    "    return numer//denom"
   ]
  },
  {
   "cell_type": "code",
   "execution_count": 13,
   "metadata": {},
   "outputs": [],
   "source": [
    "#Innitialise the values given in question\n",
    "\n",
    "n_total_ques=20 #total \n",
    "n_of_wrong_ques=5 #no of questions answered wrong\n",
    "\n",
    "n_correct_op=1\n",
    "n_total_op=4\n",
    "\n",
    "\n",
    "# In this question we can consider the scenario as binomial distribution each question can be answered correctly or incorrectly.\n",
    "#An answer can be incorrect if the person choose any of the 3 incorrect option out total option 4. \n",
    "# So probablity of 1 question to be correct = correct option/total option\n",
    "p_correct=n_correct_op/n_total_op\n",
    "p_incorrect=1-p_correct"
   ]
  },
  {
   "cell_type": "code",
   "execution_count": 14,
   "metadata": {},
   "outputs": [],
   "source": [
    "#According to binomial distribution probablity of 5 questions to be wrong is \n",
    "p=nCr(n_total_ques,n_of_wrong_ques)*(p_incorrect**n_of_wrong_ques)*(p_correct**(n_total_ques-n_of_wrong_ques)) \n"
   ]
  },
  {
   "cell_type": "code",
   "execution_count": 5,
   "metadata": {},
   "outputs": [
    {
     "name": "stdout",
     "output_type": "stream",
     "text": [
      "Probablity of exact 5 questions to in correct is : 0.00000343\n"
     ]
    }
   ],
   "source": [
    "print(\"Probablity of exact 5 questions to in correct is : %0.8f\"%p )"
   ]
  },
  {
   "cell_type": "markdown",
   "metadata": {},
   "source": [
    "## Problem Statement 2:\n",
    "#### A die marked A to E is rolled 50 times. Find the probability of getting a “D” exactly 5 times."
   ]
  },
  {
   "cell_type": "code",
   "execution_count": 7,
   "metadata": {},
   "outputs": [],
   "source": [
    "#total number of trials\n",
    "n_trials=50\n",
    "\n",
    "#total no of possible outcome of rolling a die \n",
    "n_total_outcome=5\n",
    "\n",
    "#probablity of getting D\n",
    "p_D=1/n_total_outcome\n",
    "\n",
    "#probablity of not getting D\n",
    "p_not_D=1-p_D\n",
    "\n",
    "#probablity of getting \"D\" for exactly 5 times is\n",
    "p_5=nCr(n_trials,5)*(p_D**5)*(p_not_D**(n_trials-5))"
   ]
  },
  {
   "cell_type": "code",
   "execution_count": 8,
   "metadata": {},
   "outputs": [
    {
     "name": "stdout",
     "output_type": "stream",
     "text": [
      "0.029531204310524296\n"
     ]
    }
   ],
   "source": [
    "print(p_5)"
   ]
  },
  {
   "cell_type": "markdown",
   "metadata": {},
   "source": [
    "## Problem Statement 3:\n",
    "#### Two balls are drawn at random in succession without replacement from an urn containing 4 red balls and 6 black balls. Find the probabilities of all the possible outcomes."
   ]
  },
  {
   "cell_type": "code",
   "execution_count": 8,
   "metadata": {},
   "outputs": [],
   "source": [
    "n_red=4\n",
    "n_black=6\n",
    "n_total=n_red+n_black\n",
    "sample_size=2\n",
    "\n",
    "# Two balls can be drawn in following ways:\n",
    "# 1. First ball is RED and 2nd ball is BLACK\n",
    "# 2. First ball is BLACK and 2nd ball is RED\n",
    "# 3. Both balls are RED\n",
    "# 4. Both Balls are BLACK"
   ]
  },
  {
   "cell_type": "code",
   "execution_count": 9,
   "metadata": {},
   "outputs": [
    {
     "name": "stdout",
     "output_type": "stream",
     "text": [
      "Probablity of getting first ball RED and 2nd ball BLACK is: 0.533\n"
     ]
    }
   ],
   "source": [
    "# Probablity of first ball is RED and 2nd ball is BLACK = \n",
    "# (drawing 1 ball out of 2 red ball) + (1 ball from 6 black balls)/ (drawing 2 balls from 10 balls)\n",
    "\n",
    "P_RB = (nCr(n_red,1)*nCr(n_black,1))/ nCr(n_total,sample_size)\n",
    "\n",
    "print(\"Probablity of getting first ball RED and 2nd ball BLACK is: %0.3f\"%P_RB)\n"
   ]
  },
  {
   "cell_type": "code",
   "execution_count": 10,
   "metadata": {},
   "outputs": [
    {
     "name": "stdout",
     "output_type": "stream",
     "text": [
      "Probablity of getting first ball BLACK and 2nd ball BLACK is: 0.533\n"
     ]
    }
   ],
   "source": [
    "# Probablity of first ball is BLACK and 2nd ball is RED = \n",
    "# (drawing 1 ball out of 2 black ball) + (1 ball from 6 red balls)/ (drawing 2 balls from 10 balls)\n",
    "\n",
    "P_BR = (nCr(n_black,1)*nCr(n_red,1))/ nCr(n_total,sample_size)\n",
    "\n",
    "print(\"Probablity of getting first ball BLACK and 2nd ball BLACK is: %0.3f\"%P_BR)\n"
   ]
  },
  {
   "cell_type": "code",
   "execution_count": 11,
   "metadata": {},
   "outputs": [
    {
     "name": "stdout",
     "output_type": "stream",
     "text": [
      "Probablity of getting both balls are BLACK is: 0.333\n"
     ]
    }
   ],
   "source": [
    "# Probablity of both balls are BLACK = \n",
    "# (drawing 2 balls out of 6 black balls)/ (drawing 2 balls from 10 balls)\n",
    "\n",
    "P_BB = nCr(n_black,2)/ nCr(n_total,sample_size)\n",
    "\n",
    "print(\"Probablity of getting both balls are BLACK is: %0.3f\"%P_BB)"
   ]
  },
  {
   "cell_type": "code",
   "execution_count": 12,
   "metadata": {},
   "outputs": [
    {
     "name": "stdout",
     "output_type": "stream",
     "text": [
      "Probablity of getting both balls are RED is: 0.133\n"
     ]
    }
   ],
   "source": [
    "# Probablity of both balls are RED = \n",
    "# (drawing 2 balls out of 2 RED balls)/ (drawing 2 balls from 10 balls)\n",
    "\n",
    "P_RR = nCr(n_red,2)/ nCr(n_total,sample_size)\n",
    "\n",
    "print(\"Probablity of getting both balls are RED is: %0.3f\"%P_RR)"
   ]
  },
  {
   "cell_type": "code",
   "execution_count": null,
   "metadata": {},
   "outputs": [],
   "source": []
  }
 ],
 "metadata": {
  "kernelspec": {
   "display_name": "Python 3",
   "language": "python",
   "name": "python3"
  },
  "language_info": {
   "codemirror_mode": {
    "name": "ipython",
    "version": 3
   },
   "file_extension": ".py",
   "mimetype": "text/x-python",
   "name": "python",
   "nbconvert_exporter": "python",
   "pygments_lexer": "ipython3",
   "version": "3.6.6"
  }
 },
 "nbformat": 4,
 "nbformat_minor": 2
}
